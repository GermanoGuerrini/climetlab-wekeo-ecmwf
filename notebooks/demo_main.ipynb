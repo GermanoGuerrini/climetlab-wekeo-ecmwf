{
 "cells": [
  {
   "cell_type": "code",
   "execution_count": null,
   "id": "pleasant-howard",
   "metadata": {},
   "outputs": [],
   "source": [
    "#!pip install -U climetlab\n",
    "#!pip install climetlab_wekeo_ecmwf\n",
    "#!pip install matplotlib"
   ]
  },
  {
   "cell_type": "code",
   "execution_count": 1,
   "id": "arabic-sally",
   "metadata": {},
   "outputs": [
    {
     "name": "stderr",
     "output_type": "stream",
     "text": [
      "/home/germano/.virtualenvs/climetlab2/lib/python3.10/site-packages/tqdm/auto.py:21: TqdmWarning: IProgress not found. Please update jupyter and ipywidgets. See https://ipywidgets.readthedocs.io/en/stable/user_install.html\n",
      "  from .autonotebook import tqdm as notebook_tqdm\n"
     ]
    }
   ],
   "source": [
    "import climetlab as cml"
   ]
  },
  {
   "cell_type": "code",
   "execution_count": 2,
   "id": "affiliated-binding",
   "metadata": {},
   "outputs": [
    {
     "name": "stdout",
     "output_type": "stream",
     "text": [
      "By downloading data from this dataset, you agree to the terms and conditions defined at https://www.copernicus.eu/en/access-data/copyright-and-licenceIf you do not agree with such terms, do not download the data. \n"
     ]
    }
   ],
   "source": [
    "# This one works beautifully with concat, even though the time dataarrays are equals\n",
    "cmlds1 = cml.load_dataset(\n",
    "    \"wekeo-ecmwf-sis-water-hydrological-change\",\n",
    "    variable=[\n",
    "        \"air_temperature\",\n",
    "        \"volumetric_soil_moisture\",\n",
    "        \"precipitation\"\n",
    "    ],\n",
    "    time_aggregation=[\"autumn\", \"spring\"],\n",
    "    format_=\"zip\",\n",
    "    gcm_model=\"esm_chem\",\n",
    "    statistic=\"change_in_the_annual_mean\", \n",
    "    experiment=\"rcp_8_5\",\n",
    "    hydrological_model=\"pcr_globwb\",\n",
    ")\n"
   ]
  },
  {
   "cell_type": "code",
   "execution_count": 7,
   "id": "9a7fe5db",
   "metadata": {},
   "outputs": [
    {
     "data": {
      "text/plain": [
       "[<xarray.Dataset>\n",
       " Dimensions:                       (x: 1000, y: 950, time: 12)\n",
       " Coordinates:\n",
       "   * x                             (x) float64 2.502e+06 2.508e+06 ... 7.498e+06\n",
       "   * y                             (y) float64 5.498e+06 5.492e+06 ... 7.525e+05\n",
       "   * time                          (time) datetime64[ns] 2025-01-01 ... 2080-0...\n",
       " Data variables:\n",
       "     lon                           (y, x) float64 dask.array<chunksize=(950, 1000), meta=np.ndarray>\n",
       "     lat                           (y, x) float64 dask.array<chunksize=(950, 1000), meta=np.ndarray>\n",
       "     relative_change               (time, y, x) float32 dask.array<chunksize=(12, 950, 1000), meta=np.ndarray>\n",
       "     ref_var_threshold             (y, x) float32 dask.array<chunksize=(950, 1000), meta=np.ndarray>\n",
       "     lambert_azimuthal_equal_area  float64 ...\n",
       " Attributes:\n",
       "     title:        SCII-30: Relative change in mean annual precipitation over ...\n",
       "     institution:  Helmholtz Centre for Environmental Research - UFZ\n",
       "     source:       Relative changes in mean annual precipitation estimated fro...\n",
       "     comment:      Relative change in mean annual precipitation: Precipitation...\n",
       "     Conventions:  CF-1.6\n",
       "     project:      EDgE - WP2\n",
       "     processed:    Rohini Kumar (UFZ)\n",
       "     contact:      rohini.kumar@ufz.de, stephan.thober@ufz.de, luis.samaniego@...\n",
       "     history:      Tue Jan 31 2017: created 2nd version,\n",
       " <xarray.Dataset>\n",
       " Dimensions:                       (x: 1000, y: 950, time: 12)\n",
       " Coordinates:\n",
       "   * x                             (x) float64 2.502e+06 2.508e+06 ... 7.498e+06\n",
       "   * y                             (y) float64 5.498e+06 5.492e+06 ... 7.525e+05\n",
       "   * time                          (time) datetime64[ns] 2025-01-01 ... 2080-0...\n",
       " Data variables:\n",
       "     lon                           (y, x) float64 dask.array<chunksize=(950, 1000), meta=np.ndarray>\n",
       "     lat                           (y, x) float64 dask.array<chunksize=(950, 1000), meta=np.ndarray>\n",
       "     absolute_change               (time, y, x) float32 dask.array<chunksize=(12, 950, 1000), meta=np.ndarray>\n",
       "     ref_var_threshold             (y, x) float32 dask.array<chunksize=(950, 1000), meta=np.ndarray>\n",
       "     lambert_azimuthal_equal_area  float64 ...\n",
       " Attributes:\n",
       "     title:        SCII-36: Absolute change in mean annual temperature over th...\n",
       "     institution:  Helmholtz Centre for Environmental Research - UFZ\n",
       "     source:       Absolute changes in mean annual temperature estimated from ...\n",
       "     comment:      Absolute change in mean annual temperature: The daily avera...\n",
       "     Conventions:  CF-1.6\n",
       "     project:      EDgE - WP2\n",
       "     processed:    Rohini Kumar (UFZ)\n",
       "     contact:      rohini.kumar@ufz.de, stephan.thober@ufz.de, luis.samaniego@...\n",
       "     history:      Mon Jan 23 2017: created 1st version]"
      ]
     },
     "execution_count": 7,
     "metadata": {},
     "output_type": "execute_result"
    }
   ],
   "source": [
    "cmlds1.to_xarray()"
   ]
  },
  {
   "cell_type": "code",
   "execution_count": null,
   "id": "153fcbbd",
   "metadata": {},
   "outputs": [],
   "source": [
    "aa = [s.to_xarray() for s in cmlds1.source.sources]\n",
    "aa[1].absolute_change.isel(time=10).plot()\n"
   ]
  },
  {
   "cell_type": "code",
   "execution_count": null,
   "id": "1e2a3e2b",
   "metadata": {},
   "outputs": [],
   "source": [
    "for s in cmlds1:\n",
    "    cml.plot_map(s)"
   ]
  },
  {
   "cell_type": "code",
   "execution_count": null,
   "id": "71a261a2",
   "metadata": {},
   "outputs": [],
   "source": [
    "ds1 = cmlds1.to_xarray()\n",
    "ds1.ref_var_threshold.isel(time=8).plot()"
   ]
  },
  {
   "cell_type": "code",
   "execution_count": null,
   "id": "fbc19374",
   "metadata": {},
   "outputs": [],
   "source": [
    "# This one works fine with merge, even though the time dataarrays are different\n",
    "\n",
    "cmlds2 = cml.load_dataset(\n",
    "    \"wekeo-ecmwf-cems-fire-historical\", \n",
    "    dataset=\"Consolidated dataset\", \n",
    "    product_type=\"reanalysis\", \n",
    "    variable=[\n",
    "        \"fire_weather_index\",\n",
    "        \"burning_index\"\n",
    "    ],\n",
    "    version=\"4.0\", \n",
    "    year=\"2019\", \n",
    "    month=\"01\", \n",
    "    day=[\"01\",\"02\",\"03\"],\n",
    "    format_=\"zip\",\n",
    ")"
   ]
  },
  {
   "cell_type": "code",
   "execution_count": null,
   "id": "4c833251",
   "metadata": {},
   "outputs": [],
   "source": [
    "aa = [s.to_xarray() for s in cmlds2.source.sources]\n",
    "aa[5]"
   ]
  },
  {
   "cell_type": "code",
   "execution_count": null,
   "id": "0e4f1a06",
   "metadata": {},
   "outputs": [],
   "source": [
    "aa[0].fwi.plot()"
   ]
  },
  {
   "cell_type": "code",
   "execution_count": null,
   "id": "1a9de554",
   "metadata": {},
   "outputs": [],
   "source": [
    "datasets[3]"
   ]
  },
  {
   "cell_type": "code",
   "execution_count": null,
   "id": "boring-bryan",
   "metadata": {},
   "outputs": [],
   "source": [
    "ds2 = cmlds2.to_xarray_merge()"
   ]
  },
  {
   "cell_type": "code",
   "execution_count": null,
   "id": "7d0c2dff",
   "metadata": {},
   "outputs": [],
   "source": [
    "ds2"
   ]
  },
  {
   "cell_type": "code",
   "execution_count": null,
   "id": "31e548b8",
   "metadata": {},
   "outputs": [],
   "source": [
    "ds2.fwi.isel(time=0).plot(x=\"longitude\", y=\"latitude\")"
   ]
  },
  {
   "cell_type": "code",
   "execution_count": null,
   "id": "3b602b88",
   "metadata": {},
   "outputs": [],
   "source": [
    "ds2.bi.isel(time=0).plot(x=\"longitude\", y=\"latitude\")"
   ]
  },
  {
   "cell_type": "code",
   "execution_count": null,
   "id": "bc246d4a",
   "metadata": {},
   "outputs": [],
   "source": [
    "# This is a single file, so it works, but we need to sort the longitude\n",
    "cmlds3 = cml.load_dataset(\n",
    "    \"wekeo-ecmwf-cams-europe-air-quality-forecasts\", \n",
    "    leadtime_hour=\"12\",\n",
    "    level=\"0\", \n",
    "    model=\"ensemble\",\n",
    "    start=\"2022-02-01\",\n",
    "    end=\"2022-02-03\",\n",
    "    time=\"00:00\",\n",
    "    type=\"forecast\",\n",
    "    variable=[\n",
    "        \"ozone\",\n",
    "        \"particulate_matter_2.5um\"\n",
    "    ],\n",
    "    format_=\"netcdf\"\n",
    ")"
   ]
  },
  {
   "cell_type": "code",
   "execution_count": null,
   "id": "9eae5597",
   "metadata": {},
   "outputs": [],
   "source": [
    "aa = cmlds3.to_xarray()\n",
    "aa.pm2p5_conc.isel(time=0).plot()"
   ]
  },
  {
   "cell_type": "code",
   "execution_count": null,
   "id": "4105305a",
   "metadata": {},
   "outputs": [],
   "source": [
    "ds3 = cmlds3.to_xarray_merge()"
   ]
  },
  {
   "cell_type": "code",
   "execution_count": null,
   "id": "27d01867",
   "metadata": {},
   "outputs": [],
   "source": [
    "ds3_sorted = ds3.sortby(ds3.longitude)\n",
    "ds3_sorted\n",
    "\n",
    "ds3_sorted.o3_conc.isel(time=0).plot()"
   ]
  },
  {
   "cell_type": "code",
   "execution_count": null,
   "id": "224a0d70",
   "metadata": {},
   "outputs": [],
   "source": [
    "# Single file, works ok\n",
    "cmlds4 = cml.load_dataset(\n",
    "    \"wekeo-ecmwf-reanalysis-era5-single-levels-monthly-means\",\n",
    "    product_type=\"monthly_averaged_reanalysis_by_hour_of_day\",\n",
    "    month=\"01\",\n",
    "    year=\"2019\",\n",
    "    time=[\n",
    "        \"00:00\",\n",
    "        \"01:00\"\n",
    "    ],\n",
    "    variable=[\n",
    "        \"2m_temperature\",\n",
    "        \"surface_runoff\"\n",
    "    ],\n",
    "    format_=\"netcdf\",\n",
    ")"
   ]
  },
  {
   "cell_type": "code",
   "execution_count": null,
   "id": "58826b6d",
   "metadata": {},
   "outputs": [],
   "source": [
    "try:\n",
    "    aa = [s.to_xarray() for s in cmlds4.source.sources]\n",
    "except AttributeError:\n",
    "    aa = cmlds4.to_xarray()\n",
    "\n",
    "aa"
   ]
  },
  {
   "cell_type": "code",
   "execution_count": null,
   "id": "bbd06762",
   "metadata": {},
   "outputs": [],
   "source": [
    "ds4.t2m.isel(time=0).plot()"
   ]
  }
 ],
 "metadata": {
  "kernelspec": {
   "display_name": "Python 3",
   "language": "python",
   "name": "python3"
  },
  "language_info": {
   "codemirror_mode": {
    "name": "ipython",
    "version": 3
   },
   "file_extension": ".py",
   "mimetype": "text/x-python",
   "name": "python",
   "nbconvert_exporter": "python",
   "pygments_lexer": "ipython3",
   "version": "3.10.11"
  }
 },
 "nbformat": 4,
 "nbformat_minor": 5
}
