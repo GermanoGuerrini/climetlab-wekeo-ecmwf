{
 "cells": [
  {
   "cell_type": "code",
   "execution_count": null,
   "id": "pleasant-howard",
   "metadata": {},
   "outputs": [],
   "source": [
    "#!pip install climetlab\n",
    "#!pip install climetlab_wekeo_ecmwf\n",
    "#!pip install matplotlib"
   ]
  },
  {
   "cell_type": "code",
   "execution_count": null,
   "id": "arabic-sally",
   "metadata": {},
   "outputs": [],
   "source": [
    "import climetlab as cml"
   ]
  },
  {
   "cell_type": "code",
   "execution_count": null,
   "id": "affiliated-binding",
   "metadata": {},
   "outputs": [],
   "source": [
    "cmlds = cml.load_dataset(\n",
    "    \"wekeo-ecmwf-sis-water-hydrological-change\",\n",
    "    variable=[\n",
    "        \"air_temperature\",\n",
    "        \"volumetric_soil_moisture\",\n",
    "        \"precipitation\"\n",
    "    ],\n",
    "    time_aggregation=[\"autumn\", \"spring\"],\n",
    "    format_=\"zip\",\n",
    "    gcm_model=\"esm_chem\",\n",
    "    statistic=\"change_in_the_annual_mean\", \n",
    "    experiment=\"rcp_8_5\",\n",
    "    hydrological_model=\"pcr_globwb\",\n",
    ")\n"
   ]
  },
  {
   "cell_type": "code",
   "execution_count": null,
   "id": "boring-bryan",
   "metadata": {},
   "outputs": [],
   "source": [
    "ds = cmlds.to_xarray()\n",
    "ds.absolute_change.plot()"
   ]
  }
 ],
 "metadata": {
  "kernelspec": {
   "display_name": "Python 3",
   "language": "python",
   "name": "python3"
  },
  "language_info": {
   "codemirror_mode": {
    "name": "ipython",
    "version": 3
   },
   "file_extension": ".py",
   "mimetype": "text/x-python",
   "name": "python",
   "nbconvert_exporter": "python",
   "pygments_lexer": "ipython3",
   "version": "3.10.11"
  }
 },
 "nbformat": 4,
 "nbformat_minor": 5
}
